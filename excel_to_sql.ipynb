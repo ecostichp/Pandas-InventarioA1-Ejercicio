{
 "cells": [
  {
   "cell_type": "code",
   "execution_count": 5,
   "metadata": {},
   "outputs": [],
   "source": [
    "import pandas as pd\n",
    "import numpy as np\n",
    "import sqlite3"
   ]
  },
  {
   "cell_type": "code",
   "execution_count": 6,
   "metadata": {},
   "outputs": [],
   "source": [
    "archivo_excel = 'data.xlsx'"
   ]
  },
  {
   "cell_type": "code",
   "execution_count": 9,
   "metadata": {},
   "outputs": [],
   "source": [
    "def excel_to_dataframe(hoja_excel):\n",
    "    \n",
    "    print('Inicio de la hoja',hoja_excel,'\\n')\n",
    "    \n",
    "    print('Se inicia proceso de creación del dataframe de la hoja',hoja_excel,'...')\n",
    "    df = pd.read_excel(archivo_excel, hoja_excel)\n",
    "    print('Se creó con éxito el dataframe general \\n')\n",
    "    \n",
    "    print('Se inicia la corrección de datos tipo \"String\", se convertirán a \"0\"...')\n",
    "    print('Usuario col2: ',df.columns[2])\n",
    "    i = 0\n",
    "    for n in df[df.columns[2]]:\n",
    "        if type(n) == str:\n",
    "            print(i)\n",
    "            print(n)\n",
    "            df[df.columns[2]][[i]] = 0\n",
    "        i += 1\n",
    "\n",
    "    print('Usuario col8: ',df.columns[8])\n",
    "    i = 0\n",
    "    for n in df[df.columns[8]]:\n",
    "        if type(n) == str:\n",
    "            print(i)\n",
    "            print(n)\n",
    "            df[df.columns[8]][[i]] = 0\n",
    "        i += 1\n",
    "    print('Finalizó con éxito la correción de datos tipo string \\n')\n",
    "    \n",
    "    print('Se inicia la creación de los dataframe de los usuarios: ',df.columns[2],' y ',df.columns[8])\n",
    "    df1 = df.loc[df[df.columns[2]] > 0].reset_index(drop=True)\n",
    "    df2 = df.loc[df[df.columns[8]] > 0].reset_index(drop=True)\n",
    "\n",
    "    df1a = df1[[df1.columns[0],df1.columns[1],df1.columns[2]]].assign(Index=range(len(df1))).set_index('Index')\n",
    "    df2a = df2[[df2.columns[6],df2.columns[7],df2.columns[8]]].assign(Index=range(len(df2))).set_index('Index')\n",
    "    df2a.columns = ['Clave','Descripción',df2a.columns[2]]\n",
    "    print('Se crearon con éxito los dataframe de los usuarios \\n')\n",
    "    \n",
    "\n",
    "    print('Se inicia proceso para escribir los dataframes en la base de datos...')\n",
    "    con = sqlite3.connect('data.db')\n",
    "    df1a.to_sql(hoja_excel+'_'+df1a.columns[2],con, if_exists='replace',dtype={'Index': 'INTEGER PRIMARY KEY AUTOINCREMENT'})\n",
    "    df2a.to_sql(hoja_excel+'_'+df2a.columns[2],con, if_exists='replace',dtype={'Index': 'INTEGER PRIMARY KEY AUTOINCREMENT'})\n",
    "    con.close()\n",
    "    print('Se crearon con éxito las tablas \"',hoja_excel,'_',df.columns[2],'\" y \"',hoja_excel,'_',df.columns[8],'\\n')\n",
    "    \n",
    "    print('Fin de la hoja', hoja_excel, '\\n\\n\\n')\n",
    "\n",
    "\n",
    "\n",
    "def data_inventario_to_sql():\n",
    "    h = 1\n",
    "    while h < 14:\n",
    "        n = str(h)\n",
    "        if len(n) == 2:\n",
    "            excel_to_dataframe('Eq'+n)\n",
    "        else:\n",
    "            excel_to_dataframe('Eq0'+n)\n",
    "        h += 1"
   ]
  },
  {
   "cell_type": "code",
   "execution_count": null,
   "metadata": {},
   "outputs": [],
   "source": [
    "data_inventario_to_sql()"
   ]
  }
 ],
 "metadata": {
  "kernelspec": {
   "display_name": "Python 3.10.7 ('env': venv)",
   "language": "python",
   "name": "python3"
  },
  "language_info": {
   "codemirror_mode": {
    "name": "ipython",
    "version": 3
   },
   "file_extension": ".py",
   "mimetype": "text/x-python",
   "name": "python",
   "nbconvert_exporter": "python",
   "pygments_lexer": "ipython3",
   "version": "3.10.7"
  },
  "orig_nbformat": 4,
  "vscode": {
   "interpreter": {
    "hash": "8e2fb1c4b9095723c20ac9a51ca1ab4d17a5b45f5605c7ffc4b8e470cc75dc4c"
   }
  }
 },
 "nbformat": 4,
 "nbformat_minor": 2
}
