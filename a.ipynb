{
 "cells": [
  {
   "cell_type": "code",
   "execution_count": 1,
   "metadata": {},
   "outputs": [],
   "source": [
    "import pandas as pd\n",
    "import numpy as np\n",
    "import sqlite3"
   ]
  },
  {
   "cell_type": "code",
   "execution_count": 2,
   "metadata": {},
   "outputs": [],
   "source": [
    "archivo_excel = 'data.xlsx'\n",
    "hoja_excel = 'Eq05'"
   ]
  },
  {
   "cell_type": "code",
   "execution_count": 3,
   "metadata": {},
   "outputs": [],
   "source": [
    "df = pd.read_excel(archivo_excel, hoja_excel)"
   ]
  },
  {
   "cell_type": "code",
   "execution_count": null,
   "metadata": {},
   "outputs": [],
   "source": [
    "print('Usuario col2: ',df.columns[2])\n",
    "i = 0\n",
    "for n in df[df.columns[2]]:\n",
    "    if type(n) == str:\n",
    "        print(i)\n",
    "        print(n)\n",
    "        df[df.columns[2]][[i]] = 0\n",
    "    i += 1\n",
    "\n",
    "print('Usuario col8: ',df.columns[8])\n",
    "i = 0\n",
    "for n in df[df.columns[8]]:\n",
    "    if type(n) == str:\n",
    "        print(i)\n",
    "        print(n)\n",
    "        df[df.columns[8]][[i]] = 0\n",
    "    i += 1"
   ]
  },
  {
   "cell_type": "code",
   "execution_count": 5,
   "metadata": {},
   "outputs": [],
   "source": [
    "df1 = df.loc[df[df.columns[2]] > 0].reset_index(drop=True)\n",
    "df2 = df.loc[df[df.columns[8]] > 0].reset_index(drop=True)"
   ]
  },
  {
   "cell_type": "code",
   "execution_count": 6,
   "metadata": {},
   "outputs": [],
   "source": [
    "df1a = df1[[df1.columns[0],df1.columns[1],df1.columns[2]]].assign(Index=range(len(df1))).set_index('Index')\n",
    "df2a = df2[[df2.columns[6],df2.columns[7],df2.columns[8]]].assign(Index=range(len(df2))).set_index('Index')\n",
    "df2a.columns = ['Clave','Descripción',df2a.columns[2]]"
   ]
  },
  {
   "cell_type": "code",
   "execution_count": 7,
   "metadata": {},
   "outputs": [],
   "source": [
    "con = sqlite3.connect('data.db')\n",
    "df1a.to_sql(hoja_excel+'_'+df1a.columns[2],con, if_exists='replace',dtype={'Index': 'INTEGER PRIMARY KEY AUTOINCREMENT'})\n",
    "df2a.to_sql(hoja_excel+'_'+df2a.columns[2],con, if_exists='replace',dtype={'Index': 'INTEGER PRIMARY KEY AUTOINCREMENT'})\n",
    "con.close()"
   ]
  },
  {
   "cell_type": "code",
   "execution_count": null,
   "metadata": {},
   "outputs": [],
   "source": [
    "try:\n",
    "    con.cursor()\n",
    "    print(True)\n",
    "except:\n",
    "    print(False)"
   ]
  },
  {
   "cell_type": "code",
   "execution_count": null,
   "metadata": {},
   "outputs": [],
   "source": [
    "i = 1\n",
    "while i < 14:\n",
    "    n = str(i)\n",
    "    if len(n) == 2:\n",
    "        print(n)\n",
    "    else:\n",
    "        print('0'+n)\n",
    "    i += 1"
   ]
  }
 ],
 "metadata": {
  "kernelspec": {
   "display_name": "env",
   "language": "python",
   "name": "python3"
  },
  "language_info": {
   "codemirror_mode": {
    "name": "ipython",
    "version": 3
   },
   "file_extension": ".py",
   "mimetype": "text/x-python",
   "name": "python",
   "nbconvert_exporter": "python",
   "pygments_lexer": "ipython3",
   "version": "3.11.0"
  },
  "orig_nbformat": 4,
  "vscode": {
   "interpreter": {
    "hash": "254e81bcae992fc6b4c08458118e7c07401d339cb659630801146aa77683aec7"
   }
  }
 },
 "nbformat": 4,
 "nbformat_minor": 2
}
